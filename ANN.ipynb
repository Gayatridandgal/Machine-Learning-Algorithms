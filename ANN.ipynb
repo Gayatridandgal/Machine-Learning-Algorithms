{
 "cells": [
  {
   "cell_type": "code",
   "execution_count": 13,
   "id": "07174281",
   "metadata": {},
   "outputs": [],
   "source": [
    "import numpy as np\n",
    "class neuron:\n",
    "    def __init__(self, n_inputs, bias= 0, weights= None):\n",
    "        self.b=bias\n",
    "        if weights: self.ws = np.array(weights)\n",
    "        else: self.ws=np.random.rend(n_inputs)\n",
    "            \n",
    "    def __call__(self, xs): #calculate the neuron's output: multiply the ip\n",
    "        return self._f(xs @ self.ws + self.b)\n",
    "    \n",
    "    def _f(self, x): #activation fun (default: leaky_relu)\n",
    "        return max(x*.1, x)"
   ]
  },
  {
   "cell_type": "code",
   "execution_count": 14,
   "id": "dcde37f8",
   "metadata": {},
   "outputs": [],
   "source": [
    "perceptron = neuron(n_inputs=3, bias=-0.1, weights=[0.7, 0.5, 1.4])"
   ]
  },
  {
   "cell_type": "code",
   "execution_count": 17,
   "id": "e01f1fc8",
   "metadata": {},
   "outputs": [
    {
     "data": {
      "text/plain": [
       "-0.05499999999999999"
      ]
     },
     "execution_count": 17,
     "metadata": {},
     "output_type": "execute_result"
    }
   ],
   "source": [
    "perceptron([1.0, 0.5, -1])"
   ]
  },
  {
   "cell_type": "code",
   "execution_count": null,
   "id": "1056da46",
   "metadata": {},
   "outputs": [],
   "source": []
  },
  {
   "cell_type": "code",
   "execution_count": null,
   "id": "c094c82c",
   "metadata": {},
   "outputs": [],
   "source": []
  }
 ],
 "metadata": {
  "kernelspec": {
   "display_name": "Python 3 (ipykernel)",
   "language": "python",
   "name": "python3"
  },
  "language_info": {
   "codemirror_mode": {
    "name": "ipython",
    "version": 3
   },
   "file_extension": ".py",
   "mimetype": "text/x-python",
   "name": "python",
   "nbconvert_exporter": "python",
   "pygments_lexer": "ipython3",
   "version": "3.11.5"
  }
 },
 "nbformat": 4,
 "nbformat_minor": 5
}
