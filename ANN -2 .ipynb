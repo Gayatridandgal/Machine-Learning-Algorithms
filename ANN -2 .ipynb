{
 "cells": [
  {
   "cell_type": "code",
   "execution_count": null,
   "id": "37d288b6",
   "metadata": {},
   "outputs": [],
   "source": [
    "import numpy as np\n",
    "np.set_print(precisions=9)\n",
    "num_input=3\n",
    "num_hidden=2\n",
    "num_output=2\n",
    "inputs=np.array([.1,.2,.3])\n",
    "target=np.arrya([.01, .99])\n",
    "hidden_weights = np.array([0.1,0.15], [0.2, 0.25], [0.3, 0.35])\n",
    "output_weights = np.array([0.4, 0.45], [0.5, 0.55])\n",
    "hidden_biases = np.array([.3,.4])\n",
    "output_biases = [.2, .5]\n",
    " def sigmoid"
   ]
  }
 ],
 "metadata": {
  "kernelspec": {
   "display_name": "Python 3 (ipykernel)",
   "language": "python",
   "name": "python3"
  },
  "language_info": {
   "codemirror_mode": {
    "name": "ipython",
    "version": 3
   },
   "file_extension": ".py",
   "mimetype": "text/x-python",
   "name": "python",
   "nbconvert_exporter": "python",
   "pygments_lexer": "ipython3",
   "version": "3.11.5"
  }
 },
 "nbformat": 4,
 "nbformat_minor": 5
}
